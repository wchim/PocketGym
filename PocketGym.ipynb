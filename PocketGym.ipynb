{
 "cells": [
  {
   "cell_type": "code",
   "execution_count": 27,
   "metadata": {},
   "outputs": [
    {
     "name": "stdout",
     "output_type": "stream",
     "text": [
      "Enter your name: Ian McNair\n",
      "Enter your Bench Press One Rep Max: 205\n",
      "Enter your Deadlift One Rep Max: 265\n",
      "Enter your Back Squat One Rep Max: 225\n",
      "Enter your Military Press One Rep Max: 130\n",
      "\n",
      "Ian McNair \n",
      "---------- \n",
      " {'Bench Press': '205', 'Deadlift': '265', 'Back Squat': '225', 'Military Press': '130'}\n"
     ]
    }
   ],
   "source": [
    "exercises = [\"Bench Press\", \"Deadlift\", \"Back Squat\", \"Military Press\"]\n",
    "stats = {}\n",
    "name = input(\"Enter your name: \")\n",
    "\n",
    "for exercise in exercises:\n",
    "    orm = input(f\"Enter your {exercise} One Rep Max: \")\n",
    "    stats[exercise] = orm\n",
    "\n",
    "print(\"\\n\" + name,\n",
    "      \"\\n\" + \"-\"*len(name),\n",
    "      \"\\n\",\n",
    "      stats\n",
    "     )"
   ]
  },
  {
   "cell_type": "code",
   "execution_count": 85,
   "metadata": {},
   "outputs": [],
   "source": [
    "def calculate(exercise, perc):\n",
    "    orm = int(stats[exercise])\n",
    "    adjusted_orm = 0.9*orm\n",
    "    \n",
    "    temp_total_weight = perc*adjusted_orm\n",
    "    \n",
    "    side_weights = (temp_total_weight - 45)/2\n",
    "    \n",
    "    if side_weights % 5.0 > side_weights % 10.0:\n",
    "        side_weights = side_weights - side_weights % 10.0\n",
    "    else:\n",
    "        side_weights = side_weights - side_weights % 5.0\n",
    "    side_weights = round(side_weights, 0)\n",
    "    \n",
    "    act_total_weight = side_weights*2 + 45\n",
    "    \n",
    "    this_set = f\"Total Weight: {act_total_weight} \" \\\n",
    "               f\"Weight per Side: {side_weights}\"\n",
    "    return this_set"
   ]
  },
  {
   "cell_type": "code",
   "execution_count": 86,
   "metadata": {},
   "outputs": [
    {
     "data": {
      "text/plain": [
       "'Total Weight: 115.0 Weight per Side: 35.0'"
      ]
     },
     "execution_count": 86,
     "metadata": {},
     "output_type": "execute_result"
    }
   ],
   "source": [
    "calculate(\"Bench Press\", .65)"
   ]
  },
  {
   "cell_type": "code",
   "execution_count": null,
   "metadata": {},
   "outputs": [],
   "source": []
  }
 ],
 "metadata": {
  "kernelspec": {
   "display_name": "Python 3",
   "language": "python",
   "name": "python3"
  },
  "language_info": {
   "codemirror_mode": {
    "name": "ipython",
    "version": 3
   },
   "file_extension": ".py",
   "mimetype": "text/x-python",
   "name": "python",
   "nbconvert_exporter": "python",
   "pygments_lexer": "ipython3",
   "version": "3.7.3"
  }
 },
 "nbformat": 4,
 "nbformat_minor": 2
}
